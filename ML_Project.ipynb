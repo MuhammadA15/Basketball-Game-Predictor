{
  "nbformat": 4,
  "nbformat_minor": 0,
  "metadata": {
    "colab": {
      "name": "ML_Project.ipynb",
      "provenance": [],
      "collapsed_sections": [],
      "authorship_tag": "ABX9TyM20O561kqw5AlG9LRCjcYB",
      "include_colab_link": true
    },
    "kernelspec": {
      "display_name": "Python 3",
      "name": "python3"
    }
  },
  "cells": [
    {
      "cell_type": "markdown",
      "metadata": {
        "id": "view-in-github",
        "colab_type": "text"
      },
      "source": [
        "<a href=\"https://colab.research.google.com/github/MuhammadA15/Basketball-Game-Predictor/blob/main/ML_Project.ipynb\" target=\"_parent\"><img src=\"https://colab.research.google.com/assets/colab-badge.svg\" alt=\"Open In Colab\"/></a>"
      ]
    },
    {
      "cell_type": "code",
      "metadata": {
        "id": "tGklaDveYcqo"
      },
      "source": [
        "pip install basketball-reference-scraper==v1.0.1"
      ],
      "execution_count": null,
      "outputs": []
    },
    {
      "cell_type": "code",
      "metadata": {
        "id": "0GFT9P0av3Qx"
      },
      "source": [
        "!pip install sportsreference"
      ],
      "execution_count": null,
      "outputs": []
    },
    {
      "cell_type": "code",
      "metadata": {
        "id": "gN6EVFA8tm11"
      },
      "source": [
        "import pandas as pd\n",
        "import numpy as np\n",
        "import matplotlib.pyplot as plt\n",
        "import tensorflow as tf\n",
        "from tensorflow import keras\n",
        "from tensorflow.keras import layers\n",
        "from sportsreference.nba.teams import Teams\n",
        "from sportsreference.nba.boxscore import Boxscore\n",
        "from tqdm import tqdm\n",
        "import gc\n",
        "from sklearn import datasets, linear_model\n",
        "from sklearn.model_selection import train_test_split\n",
        "from basketball_reference_scraper.teams import get_roster, get_team_stats, get_opp_stats, get_roster_stats, get_team_misc\n",
        "from basketball_reference_scraper.box_scores import get_box_scores\n",
        "from basketball_reference_scraper.seasons import get_schedule, get_standings\n",
        "from keras.models import Sequential\n",
        "from keras.layers import Dense,Dropout\n",
        "from keras.utils import np_utils\n",
        "from keras.callbacks import EarlyStopping\n",
        "from sklearn.model_selection import cross_val_score\n",
        "from sklearn.model_selection import RepeatedKFold\n",
        "from sklearn.preprocessing import LabelEncoder\n",
        "from sklearn.pipeline import Pipeline"
      ],
      "execution_count": null,
      "outputs": []
    },
    {
      "cell_type": "code",
      "metadata": {
        "id": "OnsAJeS7YklD"
      },
      "source": [
        "season1 = range(2016,2017)\n",
        "season2 = range(2017,2018)\n",
        "season3 = range(2018,2019)\n",
        "season4 = range(2019,2020)\n",
        "box_df1 = None\n",
        "box_df2 = None\n",
        "box_df3 = None\n",
        "box_df4 = None\n",
        "sched_df1 = None\n",
        "sched_df2 = None\n",
        "sched_df3 = None\n",
        "sched_df4 = None\n",
        "count = 1\n",
        "teams = ['ATL','BRK','BOS','CHI','CLE','DAL','DEN','DET','GSW','HOU','IND','LAC',\n",
        "         'LAL','MEM','MIA','MIL','MIN','NOP','NYK','OKC','ORL','PHI','PHO','POR','SAC','SAS','TOR','UTA','WAS']\n",
        "\n",
        "options = {'Atlanta Hawks': 'ATL','Brooklyn Nets': 'BRK', 'Boston Celtics': 'BOS', 'Chicago Bulls': 'CHI', 'Cleveland Cavaliers': 'CLE',\n",
        "            'Dallas Mavericks': 'DAL', 'Denver Nuggets': 'DEN', 'Detroit Pistons': 'DET', 'Golden State Warriors': 'GSW', 'Houston Rockets': 'HOU', 'Indiana Pacers': 'IND', \n",
        "            'Los Angeles Clippers': 'LAC', 'Los Angeles Lakers': 'LAL', 'Memphis Grizzlies': 'MEM', 'Miami Heat': 'MIA', 'Milwaukee Bucks': 'MIL', 'Minnesota Timberwolves': 'MIN', \n",
        "           'New Orleans Pelicans': 'NOP', 'New York Knicks': 'NYK', 'Oklahoma City Thunder': 'OKC', 'Orlando Magic': 'ORL', 'Philadelphia 76ers': 'PHI', 'Phoenix Suns': 'PHO', \n",
        "           'Portland Trail Blazers': 'POR', 'Sacramento Kings': 'SAC', 'San Antonio Spurs': 'SAS', 'Toronto Raptors': 'TOR', 'Utah Jazz': 'UTA', 'Washington Wizards': 'WAS'}\n",
        "\n",
        "for season in season1:\n",
        "    d = get_schedule(season, playoffs=False)\n",
        "    d = d[(d.HOME != 'Charlotte Hornets') & (d.VISITOR != 'Charlotte Hornets') & (d.HOME != 'Charlotte Bobcats') & (d.VISITOR != 'Charlotte Bobcats')]\n",
        "    for i, row in d.iterrows():\n",
        "      #print(row.HOME + \" vs \" + row.VISITOR)\n",
        "      t = options.get(row.HOME, 'CHO')\n",
        "      df1 = get_team_stats(t, season, data_format='PER_GAME')\n",
        "      df1 = df1.to_frame()\n",
        "      df1 = df1.transpose()\n",
        "      df1.columns = [str(col) + '_x' for col in df1.columns]\n",
        "\n",
        "      df2 = get_opp_stats(t, season, data_format='PER_GAME')\n",
        "      df2 = df2.to_frame()\n",
        "      df2 = df2.transpose()\n",
        "      df2.columns = [str(col) + '_x' for col in df2.columns]\n",
        "\n",
        "      o = options.get(row.VISITOR, 'CHO')\n",
        "      df3 = get_team_stats(o, season, data_format='PER_GAME')\n",
        "      df3 = df3.to_frame()\n",
        "      df3 = df3.transpose()\n",
        "      df3.columns = [str(col) + '_y' for col in df3.columns]\n",
        "\n",
        "      df4 = get_opp_stats(o, season, data_format='PER_GAME')\n",
        "      df4 = df4.to_frame()\n",
        "      df4 = df4.transpose()\n",
        "      df4.columns = [str(col) + '_y' for col in df4.columns]\n",
        "\n",
        "      f = row.to_frame()\n",
        "      f = f.transpose()\n",
        "\n",
        "      df1.reset_index(drop=True, inplace=True)\n",
        "      df2.reset_index(drop=True, inplace=True)\n",
        "      df3.reset_index(drop=True, inplace=True)\n",
        "      df4.reset_index(drop=True, inplace=True)\n",
        "      f.reset_index(drop=True, inplace=True)\n",
        "      full_row = pd.concat([f, df1, df2, df3, df4],axis=1)\n",
        "\n",
        "      if box_df1 is not None:\n",
        "        box_df1 = pd.concat([box_df1, full_row],ignore_index=True,axis=0)\n",
        "      else:\n",
        "        box_df1 = full_row   \n",
        "      print(count)\n",
        "      count += 1"
      ],
      "execution_count": null,
      "outputs": []
    },
    {
      "cell_type": "code",
      "metadata": {
        "id": "sB3i8Q4pH8kh"
      },
      "source": [
        "for season in season2:\r\n",
        "    d2 = get_schedule(season, playoffs=False)\r\n",
        "    d2 = d2[(d2.HOME != 'Charlotte Hornets') & (d2.VISITOR != 'Charlotte Hornets') & (d2.HOME != 'Charlotte Bobcats') & (d2.VISITOR != 'Charlotte Bobcats')]\r\n",
        "    for i, row in d2.iterrows():\r\n",
        "      #print(row.HOME + \" vs \" + row.VISITOR)\r\n",
        "      t2 = options.get(row.HOME, 'CHO')\r\n",
        "      df12 = get_team_stats(t2, season, data_format='PER_GAME')\r\n",
        "      df12 = df12.to_frame()\r\n",
        "      df12 = df12.transpose()\r\n",
        "      df12.columns = [str(col) + '_x' for col in df12.columns]\r\n",
        "\r\n",
        "      df22 = get_opp_stats(t2, season, data_format='PER_GAME')\r\n",
        "      df22 = df22.to_frame()\r\n",
        "      df22 = df22.transpose()\r\n",
        "      df22.columns = [str(col) + '_x' for col in df22.columns]\r\n",
        "\r\n",
        "      o2 = options.get(row.VISITOR, 'CHO')\r\n",
        "      df32 = get_team_stats(o2, season, data_format='PER_GAME')\r\n",
        "      df32 = df32.to_frame()\r\n",
        "      df32 = df32.transpose()\r\n",
        "      df32.columns = [str(col) + '_y' for col in df32.columns]\r\n",
        "\r\n",
        "      df42 = get_opp_stats(o2, season, data_format='PER_GAME')\r\n",
        "      df42 = df42.to_frame()\r\n",
        "      df42 = df42.transpose()\r\n",
        "      df42.columns = [str(col) + '_y' for col in df42.columns]\r\n",
        "\r\n",
        "      f2 = row.to_frame()\r\n",
        "      f2 = f2.transpose()\r\n",
        "\r\n",
        "      df12.reset_index(drop=True, inplace=True)\r\n",
        "      df22.reset_index(drop=True, inplace=True)\r\n",
        "      df32.reset_index(drop=True, inplace=True)\r\n",
        "      df42.reset_index(drop=True, inplace=True)\r\n",
        "      f2.reset_index(drop=True, inplace=True)\r\n",
        "      full_row2 = pd.concat([f2, df12, df22, df32, df42],axis=1)\r\n",
        "\r\n",
        "      if box_df2 is not None:\r\n",
        "        box_df2 = pd.concat([box_df2, full_row2],ignore_index=True,axis=0)\r\n",
        "      else:\r\n",
        "        box_df2 = full_row2   \r\n",
        "      print(count)\r\n",
        "      count += 1"
      ],
      "execution_count": null,
      "outputs": []
    },
    {
      "cell_type": "code",
      "metadata": {
        "id": "7tKesuv8IC0r"
      },
      "source": [
        "for season in season3:\r\n",
        "    d3 = get_schedule(season, playoffs=False)\r\n",
        "    d3 = d3[(d3.HOME != 'Charlotte Hornets') & (d3.VISITOR != 'Charlotte Hornets') & (d3.HOME != 'Charlotte Bobcats') & (d3.VISITOR != 'Charlotte Bobcats')]\r\n",
        "    for i, row in d3.iterrows():\r\n",
        "      #print(row.HOME + \" vs \" + row.VISITOR)\r\n",
        "      t3 = options.get(row.HOME, 'CHO')\r\n",
        "      df13 = get_team_stats(t3, season, data_format='PER_GAME')\r\n",
        "      df13 = df13.to_frame()\r\n",
        "      df13 = df13.transpose()\r\n",
        "      df13.columns = [str(col) + '_x' for col in df13.columns]\r\n",
        "\r\n",
        "      df23 = get_opp_stats(t3, season, data_format='PER_GAME')\r\n",
        "      df23 = df23.to_frame()\r\n",
        "      df23 = df23.transpose()\r\n",
        "      df23.columns = [str(col) + '_x' for col in df23.columns]\r\n",
        "\r\n",
        "      o3 = options.get(row.VISITOR, 'CHO')\r\n",
        "      df33 = get_team_stats(o3, season, data_format='PER_GAME')\r\n",
        "      df33 = df33.to_frame()\r\n",
        "      df33 = df33.transpose()\r\n",
        "      df33.columns = [str(col) + '_y' for col in df33.columns]\r\n",
        "\r\n",
        "      df43 = get_opp_stats(o3, season, data_format='PER_GAME')\r\n",
        "      df43 = df43.to_frame()\r\n",
        "      df43 = df43.transpose()\r\n",
        "      df43.columns = [str(col) + '_y' for col in df43.columns]\r\n",
        "\r\n",
        "      f3 = row.to_frame()\r\n",
        "      f3 = f3.transpose()\r\n",
        "\r\n",
        "      df13.reset_index(drop=True, inplace=True)\r\n",
        "      df23.reset_index(drop=True, inplace=True)\r\n",
        "      df33.reset_index(drop=True, inplace=True)\r\n",
        "      df43.reset_index(drop=True, inplace=True)\r\n",
        "      f3.reset_index(drop=True, inplace=True)\r\n",
        "      full_row3 = pd.concat([f3, df13, df23, df33, df43],axis=1)\r\n",
        "\r\n",
        "      if box_df3 is not None:\r\n",
        "        box_df3 = pd.concat([box_df3, full_row3],ignore_index=True,axis=0)\r\n",
        "      else:\r\n",
        "        box_df3 = full_row3   \r\n",
        "      print(count)\r\n",
        "      count += 1"
      ],
      "execution_count": null,
      "outputs": []
    },
    {
      "cell_type": "code",
      "metadata": {
        "id": "G4GlKV-MIHe1"
      },
      "source": [
        "box_df5 = None\r\n",
        "for season in season4:\r\n",
        "    d5 = get_schedule(season, playoffs=False)\r\n",
        "    d5 = d5[(d5.HOME != 'Charlotte Hornets') & (d5.VISITOR != 'Charlotte Hornets') & (d5.HOME != 'Charlotte Bobcats') & (d5.VISITOR != 'Charlotte Bobcats')]\r\n",
        "    for i, row in d5.iterrows():\r\n",
        "      #print(row.HOME + \" vs \" + row.VISITOR)\r\n",
        "      t5 = options.get(row.HOME, 'CHO')\r\n",
        "      df15 = get_team_stats(t5, season, data_format='PER_GAME')\r\n",
        "      df15 = df15.to_frame()\r\n",
        "      df15 = df15.transpose()\r\n",
        "      df15.columns = [str(col) + '_x' for col in df15.columns]\r\n",
        "\r\n",
        "      df25 = get_opp_stats(t5, season, data_format='PER_GAME')\r\n",
        "      df25 = df25.to_frame()\r\n",
        "      df25 = df25.transpose()\r\n",
        "      df25.columns = [str(col) + '_x' for col in df25.columns]\r\n",
        "\r\n",
        "      o5 = options.get(row.VISITOR, 'CHO')\r\n",
        "      df35 = get_team_stats(o5, season, data_format='PER_GAME')\r\n",
        "      df35 = df35.to_frame()\r\n",
        "      df35 = df35.transpose()\r\n",
        "      df35.columns = [str(col) + '_y' for col in df35.columns]\r\n",
        "\r\n",
        "      df45 = get_opp_stats(o5, season, data_format='PER_GAME')\r\n",
        "      df45 = df45.to_frame()\r\n",
        "      df45 = df45.transpose()\r\n",
        "      df45.columns = [str(col) + '_y' for col in df45.columns]\r\n",
        "\r\n",
        "      f5 = row.to_frame()\r\n",
        "      f5 = f5.transpose()\r\n",
        "\r\n",
        "      df15.reset_index(drop=True, inplace=True)\r\n",
        "      df25.reset_index(drop=True, inplace=True)\r\n",
        "      df35.reset_index(drop=True, inplace=True)\r\n",
        "      df45.reset_index(drop=True, inplace=True)\r\n",
        "      f5.reset_index(drop=True, inplace=True)\r\n",
        "      full_row5 = pd.concat([f5, df15, df25, df35, df45],axis=1)\r\n",
        "\r\n",
        "      if box_df5 is not None:\r\n",
        "        box_df5 = pd.concat([box_df5, full_row5],ignore_index=True,axis=0)\r\n",
        "      else:\r\n",
        "        box_df5 = full_row5   \r\n",
        "      print(count)\r\n",
        "      count += 1"
      ],
      "execution_count": null,
      "outputs": []
    },
    {
      "cell_type": "code",
      "metadata": {
        "id": "0Sj3wgDkanfT"
      },
      "source": [
        "box_df = pd.concat([box_df1, box_df2, box_df3],ignore_index=True,axis=0)"
      ],
      "execution_count": null,
      "outputs": []
    },
    {
      "cell_type": "code",
      "metadata": {
        "id": "Zwk_tJikiOQe"
      },
      "source": [
        "box_df"
      ],
      "execution_count": null,
      "outputs": []
    },
    {
      "cell_type": "code",
      "metadata": {
        "id": "74Eb5yg2D8-G"
      },
      "source": [
        "for i, row in box_df.iterrows():\n",
        "  if row.VISITOR_PTS > row.HOME_PTS:\n",
        "    box_df.loc[i,'winning_name'] = row.VISITOR\n",
        "  else:\n",
        "    box_df.loc[i,'winning_name'] = row.HOME"
      ],
      "execution_count": null,
      "outputs": []
    },
    {
      "cell_type": "code",
      "metadata": {
        "id": "hWBj_-wTkBs-"
      },
      "source": [
        "for i, row in box_df.iterrows():\r\n",
        "  if row.HOME == row.winning_name:\r\n",
        "    box_df.loc[i,'Class'] = 1\r\n",
        "  else:\r\n",
        "    box_df.loc[i,'Class'] = 0\r\n"
      ],
      "execution_count": null,
      "outputs": []
    },
    {
      "cell_type": "code",
      "metadata": {
        "id": "maxFQPgW1rme"
      },
      "source": [
        "for i, row in box_df5.iterrows():\r\n",
        "  if row.VISITOR_PTS > row.HOME_PTS:\r\n",
        "    box_df5.loc[i,'winning_name'] = row.VISITOR\r\n",
        "  else:\r\n",
        "    box_df5.loc[i,'winning_name'] = row.HOME\r\n",
        "\r\n",
        "for i, row in box_df5.iterrows():\r\n",
        "  if row.HOME == row.winning_name:\r\n",
        "    box_df5.loc[i,'Class'] = 1\r\n",
        "  else:\r\n",
        "    box_df5.loc[i,'Class'] = 0"
      ],
      "execution_count": null,
      "outputs": []
    },
    {
      "cell_type": "code",
      "metadata": {
        "id": "i3CjJnstkq-Q"
      },
      "source": [
        "box_df"
      ],
      "execution_count": null,
      "outputs": []
    },
    {
      "cell_type": "code",
      "metadata": {
        "id": "NUTId6cpx3Jr"
      },
      "source": [
        "box_df.to_csv('train_set.csv')\r\n",
        "box_df5.to_csv('test_set.csv')"
      ],
      "execution_count": null,
      "outputs": []
    },
    {
      "cell_type": "code",
      "metadata": {
        "id": "45ZyildT99R5"
      },
      "source": [
        "print(box_df.isnull().sum(axis=0).sort_values(ascending=False))"
      ],
      "execution_count": null,
      "outputs": []
    },
    {
      "cell_type": "code",
      "metadata": {
        "id": "lcR6rHsAzX_B"
      },
      "source": [
        "train = pd.read_csv('test_set.csv')\r\n",
        "train"
      ],
      "execution_count": null,
      "outputs": []
    },
    {
      "cell_type": "code",
      "metadata": {
        "id": "mjFbVJOS243L"
      },
      "source": [
        "train = train.fillna(0)\r\n",
        "y = train.Class\r\n",
        "x = train.drop(columns=['Class','DATE','VISITOR','HOME','TEAM_x','SEASON_x','TEAM_y.1','SEASON_y.1',\r\n",
        "                        'winning_name','TEAM_y','SEASON_y','TEAM_x.1','SEASON_x.1','OPP_G_x', 'G_x', 'G_y', 'OPP_G_y',\r\n",
        "                        'MP_x', 'OPP_MP_x', 'OPP_MP_y', 'MP_y', 'OPP_ORB_x', 'OPP_AST_x', 'OPP_TOV_x', 'OPP_PTS_x', 'DRB_y', 'STL_y', 'BLK_y', 'PF_y', 'OPP_ORB_y', 'OPP_AST_y', 'OPP_TOV_y', 'OPP_PTS_y'])\r\n",
        "y = y.fillna(0)\r\n",
        "x = x.fillna(0)"
      ],
      "execution_count": null,
      "outputs": []
    },
    {
      "cell_type": "code",
      "metadata": {
        "id": "a7rxlnTrdV9d"
      },
      "source": [
        "x"
      ],
      "execution_count": null,
      "outputs": []
    },
    {
      "cell_type": "code",
      "metadata": {
        "id": "_Ke1WiAkK8w7"
      },
      "source": [
        "x = x.values\r\n",
        "y = y.values"
      ],
      "execution_count": null,
      "outputs": []
    },
    {
      "cell_type": "code",
      "metadata": {
        "id": "wRldurzM4DZH"
      },
      "source": [
        "def get_model():\r\n",
        "    # define the keras model\r\n",
        "    model = keras.Sequential()\r\n",
        "    model.add(layers.Dense(100, input_dim=x.shape[1], activation='relu'))\r\n",
        "    model.add(layers.Dropout(0.2))\r\n",
        "    model.add(layers.Dense(50, activation='relu'))\r\n",
        "    model.add(layers.Dropout(0.2))\r\n",
        "    model.add(layers.Dense(25, activation='relu'))\r\n",
        "    model.add(layers.Dense(1, activation='sigmoid'))\r\n",
        "    return model\r\n",
        "\r\n",
        "model = get_model()"
      ],
      "execution_count": null,
      "outputs": []
    },
    {
      "cell_type": "code",
      "metadata": {
        "id": "kP67UtyQORUC"
      },
      "source": [
        "def train_model(x_train, y_train):\r\n",
        "    model = get_model()\r\n",
        "    model.compile(optimizer='adam', loss='BinaryCrossentropy', metrics=['accuracy'])\r\n",
        "    er = EarlyStopping(patience=50, min_delta=1e-4, restore_best_weights=True, monitor='loss')\r\n",
        "    model.fit(x_train, y_train, epochs=50, callbacks=[er], batch_size=32)\r\n",
        "    return model"
      ],
      "execution_count": null,
      "outputs": []
    },
    {
      "cell_type": "code",
      "metadata": {
        "id": "QPjOjD-a4T31"
      },
      "source": [
        "kFold_CV = RepeatedKFold(n_splits=5, n_repeats=5)\r\n",
        "models = []\r\n",
        "x = np.asarray(x).astype('float32')\r\n",
        "for index, val in kFold_CV.split(x, y):    \r\n",
        "    xtrain, ytrain = x[index], y[index]\r\n",
        "    model = train_model(xtrain, ytrain)\r\n",
        "    models.append(model)"
      ],
      "execution_count": null,
      "outputs": []
    },
    {
      "cell_type": "code",
      "metadata": {
        "id": "iRFlTvqbebBu"
      },
      "source": [
        "acc = []\r\n",
        "for model in models:\r\n",
        "    acc.append(np.mean(model.history.history['accuracy']))\r\n",
        "\r\n",
        "print(np.mean(acc))"
      ],
      "execution_count": null,
      "outputs": []
    }
  ]
}